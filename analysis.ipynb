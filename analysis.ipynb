{
 "cells": [
  {
   "cell_type": "code",
   "execution_count": 1,
   "metadata": {},
   "outputs": [],
   "source": [
    "# Import necessary libraries\n",
    "import pandas as pd\n",
    "import numpy as np\n",
    "import matplotlib.pyplot as plt\n",
    "from matplotlib import colors\n",
    "from scipy.stats import randint\n",
    "from statistics import mean"
   ]
  },
  {
   "cell_type": "markdown",
   "metadata": {},
   "source": [
    "First, we will create an array which represents the roulette board. The array will be 3 x 12, just like a standard roulette board, with each entry corresponding to a single number. We will be recreating a European roulette board since the odds are most favorable to the bettor. 0 will not be included in this board since it is a special 'green' tile."
   ]
  },
  {
   "cell_type": "code",
   "execution_count": 2,
   "metadata": {},
   "outputs": [],
   "source": [
    "# assign colors to entries in array\n",
    "board = []\n",
    "\n",
    "for i in range(1, 13):\n",
    "    col = []\n",
    "    for j in range(1, 4):\n",
    "        n = 3 * (i - 1) + j\n",
    "        col.append(n)\n",
    "    board.append(col)"
   ]
  },
  {
   "cell_type": "code",
   "execution_count": 3,
   "metadata": {},
   "outputs": [],
   "source": [
    "# transpose array to the standard horizontal orientation\n",
    "board = np.array(board).T"
   ]
  },
  {
   "cell_type": "code",
   "execution_count": 4,
   "metadata": {},
   "outputs": [],
   "source": [
    "# define function to get color of given number, black is 0\n",
    "def get_color(x):\n",
    "        tup = divmod(x-1, 3)\n",
    "        i = tup[0] + 1\n",
    "        j = tup[1] + 1\n",
    "        if j == 1:\n",
    "            pair = divmod(i-1, 2)[0] + 1\n",
    "            if pair % 3 == 0:\n",
    "                c = (i - 1) % 2\n",
    "            else:\n",
    "                c = i % 2\n",
    "        elif j == 2:\n",
    "            if i % 3 == 2:\n",
    "                c = 1.0\n",
    "            else:\n",
    "                c = 0.0\n",
    "        else:\n",
    "            if (i + 1) % 3 == 0:\n",
    "                c = 0.0\n",
    "            else:\n",
    "                c = 1.0\n",
    "\n",
    "        return float(c)"
   ]
  },
  {
   "cell_type": "code",
   "execution_count": 5,
   "metadata": {},
   "outputs": [],
   "source": [
    "# define custom color generator\n",
    "class RouletteColorNorm(colors.Normalize):\n",
    "    \n",
    "    def __init__(self, vmin=None, vmax=None, clip=False):\n",
    "        super().__init__(vmin, vmax, clip)\n",
    "\n",
    "    def __call__(self, value, clip=None):\n",
    "        return np.array([list(map(get_color, x)) for x in value])\n",
    "    \n",
    "    def inverse(self, value):\n",
    "        return None\n",
    "    \n",
    "norm = RouletteColorNorm()"
   ]
  },
  {
   "cell_type": "code",
   "execution_count": 6,
   "metadata": {},
   "outputs": [],
   "source": [
    "# create discrete colormap\n",
    "cmap = colors.ListedColormap(['black', 'red'])"
   ]
  },
  {
   "cell_type": "code",
   "execution_count": 7,
   "metadata": {},
   "outputs": [
    {
     "data": {
      "image/png": "[encoded data removed]",
      "text/plain": [
       "<Figure size 432x288 with 1 Axes>"
      ]
     },
     "metadata": {
      "needs_background": "light"
     },
     "output_type": "display_data"
    }
   ],
   "source": [
    "# display board - for some reason 11 and 26 don't display properly, but they are black\n",
    "fig, ax = plt.subplots()\n",
    "\n",
    "ax.imshow(board, cmap = cmap, origin='lower', norm=norm)\n",
    "\n",
    "ax.set_xticks(np.arange(-.5, 12, 1))\n",
    "ax.set_yticks(np.arange(-.5, 3, 1))\n",
    "ax.set_xticklabels(np.arange(0, 13, 1))\n",
    "ax.set_yticklabels(np.arange(0, 4, 1))\n",
    "\n",
    "ax.grid(color='w', linestyle='-', linewidth=2)\n",
    "\n",
    "for (j,i),label in np.ndenumerate(board):\n",
    "    ax.text(i,j,label,ha='center',va='center', color='w')"
   ]
  },
  {
   "cell_type": "markdown",
   "metadata": {},
   "source": [
    "Next, we will create a random number generator to simulate a spin of the roulette wheel. Assuming a completely fair wheel, each of the 37 numbers on the wheel, 0 to 36, are equally likely. Thus, we will simulate a discrete uniform random variable."
   ]
  },
  {
   "cell_type": "code",
   "execution_count": 8,
   "metadata": {},
   "outputs": [],
   "source": [
    "# create simulated wheel\n",
    "wheel = randint(low=0, high=37)"
   ]
  },
  {
   "cell_type": "code",
   "execution_count": 9,
   "metadata": {},
   "outputs": [],
   "source": [
    "# function to simulate spinning wheel n times\n",
    "def spin_wheel(n=1):\n",
    "    results = wheel.rvs(size=n)\n",
    "    return results"
   ]
  },
  {
   "cell_type": "markdown",
   "metadata": {},
   "source": [
    "Now, let's consider our betting options. The simplest bet in roulette is \"straight up\" - when you bet on a single number. It's payout is 35:1, meaning if you bet 1 dollar and win, you will receive 35 dollars plus the initial dollar you bet. Using this information, plus our previous knowledge about the probability of landing on each number, we can calculate the expected payout of the bet."
   ]
  },
  {
   "cell_type": "code",
   "execution_count": 10,
   "metadata": {},
   "outputs": [
    {
     "data": {
      "text/plain": [
       "-0.027027027027026973"
      ]
     },
     "execution_count": 10,
     "metadata": {},
     "output_type": "execute_result"
    }
   ],
   "source": [
    "(35) * (1/37) + (-1) * (36/37)"
   ]
  },
  {
   "cell_type": "markdown",
   "metadata": {},
   "source": [
    "We can confirm this in simulations by defining a function which calculates the payouts of bets for a series of spins."
   ]
  },
  {
   "cell_type": "code",
   "execution_count": 11,
   "metadata": {},
   "outputs": [],
   "source": [
    "# function to calculate payouts for straight up bets\n",
    "def simple_payout(sims, bets):\n",
    "    payouts = []\n",
    "    assert len(sims) == len(bets)\n",
    "    for i in range(len(sims)):\n",
    "        if sims[i] == bets[i]:\n",
    "            payouts.append(35)\n",
    "        else:\n",
    "            payouts.append(-1)\n",
    "    return payouts"
   ]
  },
  {
   "cell_type": "code",
   "execution_count": 12,
   "metadata": {},
   "outputs": [],
   "source": [
    "# function to generate constant straight up bets\n",
    "def generate_bets(n, k):\n",
    "    return [k] * n"
   ]
  },
  {
   "cell_type": "code",
   "execution_count": 17,
   "metadata": {},
   "outputs": [
    {
     "data": {
      "text/plain": [
       "-0.028"
      ]
     },
     "execution_count": 17,
     "metadata": {},
     "output_type": "execute_result"
    }
   ],
   "source": [
    "# calculate the average payout of 10,000 straight up bets on 13\n",
    "mean(simple_payout(spin_wheel(10000), generate_bets(10000, 13)))"
   ]
  },
  {
   "cell_type": "markdown",
   "metadata": {},
   "source": [
    "From the simulations above, we have confirmed the accuracy of our caclulations. Now, we will compare the expected payouts of all possible bets. Additional bets include \"split\" (two adjacent numbers), \"street\" (row of three numbers), \"corner\" (square of four numbers), \"double street\" (two adjacent rows), odd or even, low or high, red or black, column, and dozens."
   ]
  },
  {
   "cell_type": "code",
   "execution_count": 18,
   "metadata": {},
   "outputs": [],
   "source": [
    "# data frame of bets, their payouts, and the number of numbers which satisfy the bet\n",
    "names = [\"straight\", \"split\", \"street\", \"corner\", \"double-street\", \"odd/even\", \"low/high\", \"red/black\", \"column\", \"dozens\"]\n",
    "payouts = [35, 17, 11, 8, 5, 1, 1, 1, 2, 2]\n",
    "size = [1, 2, 3, 4, 6, 18, 18, 18, 12,  12]\n",
    "bets = pd.DataFrame(data={\"bet\": names, \"payout\": payouts, \"size\": size})"
   ]
  },
  {
   "cell_type": "code",
   "execution_count": 19,
   "metadata": {},
   "outputs": [],
   "source": [
    "# calculate the probability of each bet hitting\n",
    "bets['probability'] = bets['size']/37"
   ]
  },
  {
   "cell_type": "code",
   "execution_count": 20,
   "metadata": {},
   "outputs": [],
   "source": [
    "# calculate the expected payout of each bet \n",
    "bets['expected payout'] = (bets['payout']) * (bets['size']/37) + (-1) * (1-bets['size']/37)"
   ]
  },
  {
   "cell_type": "code",
   "execution_count": 21,
   "metadata": {},
   "outputs": [
    {
     "data": {
      "text/html": [
       "<div>\n",
       "<style scoped>\n",
       "    .dataframe tbody tr th:only-of-type {\n",
       "        vertical-align: middle;\n",
       "    }\n",
       "\n",
       "    .dataframe tbody tr th {\n",
       "        vertical-align: top;\n",
       "    }\n",
       "\n",
       "    .dataframe thead th {\n",
       "        text-align: right;\n",
       "    }\n",
       "</style>\n",
       "<table border=\"1\" class=\"dataframe\">\n",
       "  <thead>\n",
       "    <tr style=\"text-align: right;\">\n",
       "      <th></th>\n",
       "      <th>bet</th>\n",
       "      <th>payout</th>\n",
       "      <th>size</th>\n",
       "      <th>probability</th>\n",
       "      <th>expected payout</th>\n",
       "    </tr>\n",
       "  </thead>\n",
       "  <tbody>\n",
       "    <tr>\n",
       "      <th>0</th>\n",
       "      <td>straight</td>\n",
       "      <td>35</td>\n",
       "      <td>1</td>\n",
       "      <td>0.027027</td>\n",
       "      <td>-0.027027</td>\n",
       "    </tr>\n",
       "    <tr>\n",
       "      <th>1</th>\n",
       "      <td>split</td>\n",
       "      <td>17</td>\n",
       "      <td>2</td>\n",
       "      <td>0.054054</td>\n",
       "      <td>-0.027027</td>\n",
       "    </tr>\n",
       "    <tr>\n",
       "      <th>2</th>\n",
       "      <td>street</td>\n",
       "      <td>11</td>\n",
       "      <td>3</td>\n",
       "      <td>0.081081</td>\n",
       "      <td>-0.027027</td>\n",
       "    </tr>\n",
       "    <tr>\n",
       "      <th>3</th>\n",
       "      <td>corner</td>\n",
       "      <td>8</td>\n",
       "      <td>4</td>\n",
       "      <td>0.108108</td>\n",
       "      <td>-0.027027</td>\n",
       "    </tr>\n",
       "    <tr>\n",
       "      <th>4</th>\n",
       "      <td>double-street</td>\n",
       "      <td>5</td>\n",
       "      <td>6</td>\n",
       "      <td>0.162162</td>\n",
       "      <td>-0.027027</td>\n",
       "    </tr>\n",
       "    <tr>\n",
       "      <th>5</th>\n",
       "      <td>odd/even</td>\n",
       "      <td>1</td>\n",
       "      <td>18</td>\n",
       "      <td>0.486486</td>\n",
       "      <td>-0.027027</td>\n",
       "    </tr>\n",
       "    <tr>\n",
       "      <th>6</th>\n",
       "      <td>low/high</td>\n",
       "      <td>1</td>\n",
       "      <td>18</td>\n",
       "      <td>0.486486</td>\n",
       "      <td>-0.027027</td>\n",
       "    </tr>\n",
       "    <tr>\n",
       "      <th>7</th>\n",
       "      <td>red/black</td>\n",
       "      <td>1</td>\n",
       "      <td>18</td>\n",
       "      <td>0.486486</td>\n",
       "      <td>-0.027027</td>\n",
       "    </tr>\n",
       "    <tr>\n",
       "      <th>8</th>\n",
       "      <td>column</td>\n",
       "      <td>2</td>\n",
       "      <td>12</td>\n",
       "      <td>0.324324</td>\n",
       "      <td>-0.027027</td>\n",
       "    </tr>\n",
       "    <tr>\n",
       "      <th>9</th>\n",
       "      <td>dozens</td>\n",
       "      <td>2</td>\n",
       "      <td>12</td>\n",
       "      <td>0.324324</td>\n",
       "      <td>-0.027027</td>\n",
       "    </tr>\n",
       "  </tbody>\n",
       "</table>\n",
       "</div>"
      ],
      "text/plain": [
       "             bet  payout  size  probability  expected payout\n",
       "0       straight      35     1     0.027027        -0.027027\n",
       "1          split      17     2     0.054054        -0.027027\n",
       "2         street      11     3     0.081081        -0.027027\n",
       "3         corner       8     4     0.108108        -0.027027\n",
       "4  double-street       5     6     0.162162        -0.027027\n",
       "5       odd/even       1    18     0.486486        -0.027027\n",
       "6       low/high       1    18     0.486486        -0.027027\n",
       "7      red/black       1    18     0.486486        -0.027027\n",
       "8         column       2    12     0.324324        -0.027027\n",
       "9         dozens       2    12     0.324324        -0.027027"
      ]
     },
     "execution_count": 21,
     "metadata": {},
     "output_type": "execute_result"
    }
   ],
   "source": [
    "bets"
   ]
  },
  {
   "cell_type": "markdown",
   "metadata": {},
   "source": [
    "As we can see from the calculations, all standard bets have the same expected payout. But what if we combine multiple bets? For non-overlapping bets, it is clear that the expected payouts will remain the same. If they overlap (i.e. share the same number), however, things get more complicated. To handle these cases, we must create functions for creating more complicated combination bets."
   ]
  },
  {
   "cell_type": "code",
   "execution_count": 151,
   "metadata": {},
   "outputs": [],
   "source": [
    "# Simple function to create a straight bet\n",
    "\n",
    "def straight_bet(number, amount):\n",
    "    assert 36 >= number >= 0\n",
    "    assert amount > 0\n",
    "    payout = 35\n",
    "    return ([number], amount, payout)"
   ]
  },
  {
   "cell_type": "code",
   "execution_count": 131,
   "metadata": {},
   "outputs": [],
   "source": [
    "# Helper function to find horizontal and vertical neighbors of number on board\n",
    "\n",
    "def get_neighbors(number):\n",
    "    \n",
    "    i = np.where(board == number)[0][0]\n",
    "    j = np.where(board == number)[1][0]\n",
    "    \n",
    "    neighbors = []\n",
    "    \n",
    "    if i > 0:\n",
    "        neighbors.append(board[i-1,j])\n",
    "    if j > 0:\n",
    "        neighbors.append(board[i,j-1])\n",
    "    if i < board.shape[0] - 1:\n",
    "        neighbors.append(board[i+1,j])\n",
    "    if j < board.shape[1] - 1:\n",
    "        neighbors.append(board[i,j+1])\n",
    "    \n",
    "    return neighbors"
   ]
  },
  {
   "cell_type": "code",
   "execution_count": 132,
   "metadata": {},
   "outputs": [],
   "source": [
    "# Simple function to create a split bet\n",
    "\n",
    "def split_bet(n1, n2, amount):\n",
    "    assert n2 in get_neighbors(n1)\n",
    "    assert amount > 0\n",
    "    payout = 17\n",
    "    return ([n1, n2], amount, payout)"
   ]
  },
  {
   "cell_type": "code",
   "execution_count": 133,
   "metadata": {},
   "outputs": [],
   "source": [
    "# Simple function to create a street bet\n",
    "\n",
    "def street_bet(row, amount):\n",
    "    assert 12 >= row >= 1\n",
    "    assert amount > 0\n",
    "    payout = 11\n",
    "    return (list(board[:, row-1]), amount, payout)"
   ]
  },
  {
   "cell_type": "code",
   "execution_count": 134,
   "metadata": {},
   "outputs": [],
   "source": [
    "# Simple function to create a corner bet\n",
    "\n",
    "def corner_bet(top_left, amount):\n",
    "    \n",
    "    i = np.where(board == top_left)[0][0]\n",
    "    j = np.where(board == top_left)[1][0]\n",
    "    \n",
    "    assert 36 >= top_left >= 1\n",
    "    assert amount > 0\n",
    "    assert i < board.shape[0] - 1\n",
    "    assert j < board.shape[1] - 1\n",
    "    \n",
    "    numbers = [top_left, board[i, j+1], board[i+1, j], board[i+1, j+1]]\n",
    "    \n",
    "    payout = 8\n",
    "\n",
    "    return (numbers, amount, payout)"
   ]
  },
  {
   "cell_type": "code",
   "execution_count": 135,
   "metadata": {},
   "outputs": [],
   "source": [
    "# Simple function to create a double street bet\n",
    "\n",
    "def double_street_bet(left_row, amount):\n",
    "    assert 11 >= left_row >= 1\n",
    "    assert amount > 0\n",
    "    payout = 5\n",
    "    return (list(board[:, left_row-1]) + list(board[:, left_row]), amount, payout)"
   ]
  },
  {
   "cell_type": "code",
   "execution_count": 136,
   "metadata": {},
   "outputs": [],
   "source": [
    "# Simple function to create an odd/even bet\n",
    "\n",
    "def odd_even_bet(amount, odd=True):\n",
    "    assert amount > 0\n",
    "    \n",
    "    nums = list(range(1, 37))\n",
    "    \n",
    "    if odd:\n",
    "        nums = [n for n in nums if n % 2 == 1]\n",
    "    else:\n",
    "        nums = [n for n in nums if n % 2 == 0]\n",
    "        \n",
    "    payout = 1\n",
    "    \n",
    "    return (nums, amount, payout)"
   ]
  },
  {
   "cell_type": "code",
   "execution_count": 137,
   "metadata": {},
   "outputs": [],
   "source": [
    "# Simple function to create a high/low bet\n",
    "\n",
    "def high_low_bet(amount, high=True):\n",
    "    assert amount > 0\n",
    "    \n",
    "    if high:\n",
    "        nums = list(range(19, 37))\n",
    "    else:\n",
    "        nums = list(range(1, 19))\n",
    "        \n",
    "    payout = 1\n",
    "    \n",
    "    return (nums, amount, payout)"
   ]
  },
  {
   "cell_type": "code",
   "execution_count": 138,
   "metadata": {},
   "outputs": [],
   "source": [
    "# Simple function to create an red/black bet\n",
    "\n",
    "def red_black_bet(amount, red=True):\n",
    "    assert amount > 0\n",
    "    \n",
    "    nums = list(range(1, 37))\n",
    "    colors = list(map(get_color, nums))\n",
    "    \n",
    "    if red:\n",
    "        nums = [nums[i] for i in range(len(colors)) if colors[i] == 1]\n",
    "    else:\n",
    "        nums = [nums[i] for i in range(len(colors)) if colors[i] == 0]\n",
    "        \n",
    "    payout = 1\n",
    "    \n",
    "    return (nums, amount, payout)"
   ]
  },
  {
   "cell_type": "code",
   "execution_count": 139,
   "metadata": {},
   "outputs": [],
   "source": [
    "# Simple function to create a column bet\n",
    "\n",
    "def column_bet(column, amount):\n",
    "    assert 3 >= column >= 1\n",
    "    assert amount > 0\n",
    "    payout = 2\n",
    "    return (list(board[column-1, :]), amount, payout)"
   ]
  },
  {
   "cell_type": "code",
   "execution_count": 140,
   "metadata": {},
   "outputs": [],
   "source": [
    "# Simple function to create a dozen bet\n",
    "\n",
    "def dozen_bet(dozen, amount):\n",
    "    assert 3 >= dozen >= 1\n",
    "    assert amount > 0\n",
    "   \n",
    "    if dozen == 1:\n",
    "        nums = list(range(1, 13))\n",
    "        \n",
    "    elif dozen == 2:\n",
    "        nums = list(range(13, 25))\n",
    "    else:\n",
    "        nums = list(range(25, 37))\n",
    "    \n",
    "    payout = 2\n",
    "    \n",
    "    return (nums, amount, payout)"
   ]
  },
  {
   "cell_type": "markdown",
   "metadata": {},
   "source": [
    "Now that we have functions for creating each type of bet in a standard format, we can create a combination bet with overlaps at certain values. We will place $1 on each of the following bets: Double Street - Rows 3 & 4, Black, Column 2, Corner 32, Straight 23."
   ]
  },
  {
   "cell_type": "code",
   "execution_count": 179,
   "metadata": {},
   "outputs": [],
   "source": [
    "bet = [double_street_bet(3, 1), red_black_bet(1, red=False), column_bet(2, 1), corner_bet(32, 1), straight_bet(23, 1)]"
   ]
  },
  {
   "cell_type": "code",
   "execution_count": 180,
   "metadata": {},
   "outputs": [
    {
     "data": {
      "text/plain": [
       "[([7, 8, 9, 10, 11, 12], 1, 5),\n",
       " ([2, 4, 6, 8, 10, 11, 13, 15, 17, 20, 22, 24, 26, 28, 29, 31, 33, 35], 1, 1),\n",
       " ([2, 5, 8, 11, 14, 17, 20, 23, 26, 29, 32, 35], 1, 2),\n",
       " ([32, 35, 33, 36], 1, 8),\n",
       " ([23], 1, 35)]"
      ]
     },
     "execution_count": 180,
     "metadata": {},
     "output_type": "execute_result"
    }
   ],
   "source": [
    "bet"
   ]
  },
  {
   "cell_type": "markdown",
   "metadata": {},
   "source": [
    "Now, we can calculate the expected value of this bet."
   ]
  },
  {
   "cell_type": "code",
   "execution_count": 181,
   "metadata": {},
   "outputs": [],
   "source": [
    "# calculation of expected value\n",
    "payouts = []\n",
    "for i in range(0, 37):\n",
    "    \n",
    "    p = 0\n",
    "    \n",
    "    for j in range(len(bet)):\n",
    "        if i in bet[j][0]:\n",
    "            p = p + bet[j][2]\n",
    "        else:\n",
    "            p = p - bet[j][1]\n",
    "    \n",
    "    payouts.append(p)    "
   ]
  },
  {
   "cell_type": "code",
   "execution_count": 182,
   "metadata": {},
   "outputs": [
    {
     "name": "stdout",
     "output_type": "stream",
     "text": [
      "-0.1351351351351352\n"
     ]
    }
   ],
   "source": [
    "ev = sum([p/37 for p in payouts])\n",
    "print(ev)"
   ]
  },
  {
   "cell_type": "markdown",
   "metadata": {},
   "source": [
    "While this is lower than the expected value of each of the individual bets, if we take the average over the number of bets we placed, we get the same expected value per bet."
   ]
  },
  {
   "cell_type": "code",
   "execution_count": 183,
   "metadata": {},
   "outputs": [
    {
     "data": {
      "text/plain": [
       "-0.02702702702702704"
      ]
     },
     "execution_count": 183,
     "metadata": {},
     "output_type": "execute_result"
    }
   ],
   "source": [
    "ev/len(bet)"
   ]
  },
  {
   "cell_type": "markdown",
   "metadata": {},
   "source": [
    "Again, we can confirm these calculations with simulations. First, we need to define a function that calculates the total payout of all our bets for a given simulation."
   ]
  },
  {
   "cell_type": "code",
   "execution_count": 189,
   "metadata": {},
   "outputs": [],
   "source": [
    "# function to calculate payout of combination bets\n",
    "def calc_combo_payout(num, bet):\n",
    "    \n",
    "    payout = 0\n",
    "    \n",
    "    for j in range(len(bet)):\n",
    "        if num in bet[j][0]:\n",
    "            payout = payout + bet[j][2]\n",
    "        else:\n",
    "            payout = payout - bet[j][1]\n",
    "            \n",
    "    return payout"
   ]
  },
  {
   "cell_type": "code",
   "execution_count": 195,
   "metadata": {},
   "outputs": [],
   "source": [
    "# results of 100,000 simulated spins of wheel\n",
    "spins = spin_wheel(100000)"
   ]
  },
  {
   "cell_type": "code",
   "execution_count": 196,
   "metadata": {},
   "outputs": [],
   "source": [
    "# payouts from simulations\n",
    "payouts = []\n",
    "for s in spins:\n",
    "    payouts.append(calc_combo_payout(s, bet))"
   ]
  },
  {
   "cell_type": "code",
   "execution_count": 199,
   "metadata": {},
   "outputs": [
    {
     "name": "stdout",
     "output_type": "stream",
     "text": [
      "-0.12771\n",
      "-0.025542\n"
     ]
    }
   ],
   "source": [
    "# mean/expected payout and mean/expected payout per bet\n",
    "print(mean(payouts))\n",
    "print(mean(payouts)/len(bet))"
   ]
  },
  {
   "cell_type": "markdown",
   "metadata": {},
   "source": [
    "As we have demonstrated, every bet in roulette as the same expected value. Therefore, the fun of the game comes down to personal preference. Do you want to risk all on a low probability bet or spread out your money across a longer period of time with multiple bets? The choice is yours."
   ]
  },
  {
   "cell_type": "code",
   "execution_count": null,
   "metadata": {},
   "outputs": [],
   "source": []
  }
 ],
 "metadata": {
  "kernelspec": {
   "display_name": "Python 3",
   "language": "python",
   "name": "python3"
  },
  "language_info": {
   "codemirror_mode": {
    "name": "ipython",
    "version": 3
   },
   "file_extension": ".py",
   "mimetype": "text/x-python",
   "name": "python",
   "nbconvert_exporter": "python",
   "pygments_lexer": "ipython3",
   "version": "3.7.6"
  }
 },
 "nbformat": 4,
 "nbformat_minor": 4
}
